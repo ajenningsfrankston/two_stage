{
 "cells": [
  {
   "cell_type": "code",
   "execution_count": 2,
   "metadata": {
    "collapsed": true
   },
   "outputs": [],
   "source": [
    "## replace PatchExtractor with iafoss tile extractor\n",
    "##\n",
    "## extracts the tile from a single image\n",
    "##\n",
    "\n",
    "class PatchExtractor:\n",
    "    def __init__(self, img, patch_size, stride):\n",
    "        \"\"\"\n",
    "        :param img: :py:class:`~PIL.Image.Image`\n",
    "        :param patch_size: integer, size of the patch\n",
    "        :param stride: integer, size of the stride\n",
    "        \"\"\"\n",
    "        self.img = img\n",
    "        self.size = patch_size\n",
    "        self.stride = stride\n",
    "\n",
    "    def extract_patches(self):\n",
    "        \"\"\"\n",
    "        extracts all patches from an image\n",
    "        :returns: A list of :py:class:`~PIL.Image.Image` objects.\n",
    "        \"\"\"\n",
    "        wp, hp = self.shape()\n",
    "        return [self.extract_patch((w, h)) for h in range(hp) for w in range(wp)]\n",
    "\n",
    "    def extract_patch(self, patch):\n",
    "        \"\"\"\n",
    "        extracts a patch from an input image\n",
    "        :param patch: a tuple\n",
    "        :rtype: :py:class:`~PIL.Image.Image`\n",
    "        :returns: An :py:class:`~PIL.Image.Image` object.\n",
    "        \"\"\"\n",
    "        return self.img.crop((\n",
    "            patch[0] * self.stride,  # left\n",
    "            patch[1] * self.stride,  # up\n",
    "            patch[0] * self.stride + self.size,  # right\n",
    "            patch[1] * self.stride + self.size  # down\n",
    "        ))\n",
    "\n",
    "    def shape(self):\n",
    "        wp = int((self.img.width - self.size) / self.stride + 1)\n",
    "        hp = int((self.img.height - self.size) / self.stride + 1)\n",
    "        return wp, hp\n"
   ]
  },
  {
   "cell_type": "code",
   "execution_count": null,
   "outputs": [],
   "source": [
    "\n",
    "\n",
    "\n"
   ],
   "metadata": {
    "collapsed": false,
    "pycharm": {
     "name": "#%%\n"
    }
   }
  }
 ],
 "metadata": {
  "kernelspec": {
   "display_name": "Python 3",
   "language": "python",
   "name": "python3"
  },
  "language_info": {
   "codemirror_mode": {
    "name": "ipython",
    "version": 2
   },
   "file_extension": ".py",
   "mimetype": "text/x-python",
   "name": "python",
   "nbconvert_exporter": "python",
   "pygments_lexer": "ipython2",
   "version": "2.7.6"
  }
 },
 "nbformat": 4,
 "nbformat_minor": 0
}