{
 "cells": [
  {
   "cell_type": "markdown",
   "source": [
    "# Visualization: PANDA 16x128x128 tiles"
   ],
   "metadata": {
    "collapsed": false
   }
  },
  {
   "cell_type": "markdown",
   "source": [
    "### This notebook:\n",
    "\n",
    "- is based on [PANDA 16x128x128 tiles][original]. Thank you [@iafoss][iafoss] for sharing it with us.\n",
    "- visualizes which tiles are selected in iafoss's approach.\n",
    "\n",
    "[iafoss]: https://www.kaggle.com/iafoss\n",
    "[original]: https://www.kaggle.com/iafoss/panda-16x128x128-tiles"
   ],
   "metadata": {
    "collapsed": false
   }
  },
  {
   "cell_type": "code",
   "execution_count": null,
   "outputs": [],
   "source": [
    "import os\n",
    "from functools import reduce\n",
    "\n",
    "import pandas as pd\n",
    "import skimage.io\n",
    "import numpy as np\n",
    "import matplotlib.pyplot as plt"
   ],
   "metadata": {
    "collapsed": false,
    "pycharm": {
     "name": "#%%\n"
    }
   }
  },
  {
   "cell_type": "code",
   "execution_count": null,
   "outputs": [],
   "source": [
    "INPUT_DIR = \"../input/prostate-cancer-grade-assessment\"\n",
    "TRAIN_DIR = f\"{INPUT_DIR}/train_images\"\n",
    "MASK_DIR = f\"{INPUT_DIR}/train_label_masks\"\n",
    "\n",
    "BLACK = (0,) * 3\n",
    "GRAY = (200,) * 3\n",
    "WHITE = (255,) * 3\n",
    "RED = (255, 0, 0)\n",
    "\n",
    "SIZE = 128\n",
    "N = 16"
   ],
   "metadata": {
    "collapsed": false,
    "pycharm": {
     "name": "#%%\n"
    }
   }
  },
  {
   "cell_type": "code",
   "execution_count": null,
   "outputs": [],
   "source": [
    "train = pd.read_csv(f\"{INPUT_DIR}/train.csv\")\n",
    "train.head()"
   ],
   "metadata": {
    "collapsed": false,
    "pycharm": {
     "name": "#%%\n"
    }
   }
  },
  {
   "cell_type": "markdown",
   "source": [
    "# Load image"
   ],
   "metadata": {
    "collapsed": false
   }
  },
  {
   "cell_type": "code",
   "execution_count": null,
   "outputs": [],
   "source": [
    "def imread(path):\n",
    "    if not os.path.exists(path):\n",
    "        raise FileNotFoundError(f\"No such file or directory: '{path}'\")\n",
    "\n",
    "    return skimage.io.MultiImage(path)\n",
    "\n",
    "\n",
    "def imshow(\n",
    "    img,\n",
    "    title=None,\n",
    "    show_shape=True,\n",
    "    figsize=(8, 8)\n",
    "):\n",
    "    fig, ax = plt.subplots(figsize=figsize)\n",
    "    ax.imshow(img)\n",
    "    ax.grid(\"off\")\n",
    "    ax.set_xticks([])\n",
    "    ax.set_yticks([])\n",
    "\n",
    "    if show_shape:\n",
    "        ax.set_xlabel(f\"Shape: {img.shape}\", fontsize=16)\n",
    "\n",
    "    if title:\n",
    "        ax.set_title(title, fontsize=16)\n",
    "\n",
    "    return ax"
   ],
   "metadata": {
    "collapsed": false,
    "pycharm": {
     "name": "#%%\n"
    }
   }
  },
  {
   "cell_type": "code",
   "execution_count": null,
   "outputs": [],
   "source": [
    "img_id = \"000920ad0b612851f8e01bcc880d9b3d\"\n",
    "img_org = imread(os.path.join(TRAIN_DIR, f\"{img_id}.tiff\"))[-1]\n",
    "imshow(img_org, \"Original image\")"
   ],
   "metadata": {
    "collapsed": false,
    "pycharm": {
     "name": "#%%\n"
    }
   }
  },
  {
   "cell_type": "markdown",
   "source": [
    "# Padding\n",
    "\n",
    "https://docs.scipy.org/doc/numpy/reference/generated/numpy.pad.html"
   ],
   "metadata": {
    "collapsed": false
   }
  },
  {
   "cell_type": "code",
   "execution_count": null,
   "outputs": [],
   "source": [
    "H, W = img_org.shape[:2]\n",
    "pad_h = (SIZE - H % SIZE) % SIZE\n",
    "pad_w = (SIZE - W % SIZE) % SIZE\n",
    "\n",
    "print(\"pad_h:\", pad_h)\n",
    "print(\"pad_w\", pad_w)"
   ],
   "metadata": {
    "collapsed": false,
    "pycharm": {
     "name": "#%%\n"
    }
   }
  },
  {
   "cell_type": "code",
   "execution_count": null,
   "outputs": [],
   "source": [
    "padded_vis = np.pad(\n",
    "    img_org,\n",
    "    [[pad_h // 2, pad_h - pad_h // 2],\n",
    "     [pad_w // 2, pad_w - pad_w // 2],\n",
    "     [0, 0]],\n",
    "    constant_values=GRAY[0],  # use GRAY for visualization.\n",
    ")\n",
    "\n",
    "imshow(padded_vis, \"Padded image\")"
   ],
   "metadata": {
    "collapsed": false,
    "pycharm": {
     "name": "#%%\n"
    }
   }
  },
  {
   "cell_type": "code",
   "execution_count": null,
   "outputs": [],
   "source": [
    "padded = np.pad(\n",
    "    img_org,\n",
    "    [[pad_h // 2, pad_h - pad_h // 2],\n",
    "     [pad_w // 2, pad_w - pad_w // 2],\n",
    "     [0, 0]],\n",
    "    constant_values=WHITE[0],\n",
    ")"
   ],
   "metadata": {
    "collapsed": false,
    "pycharm": {
     "name": "#%%\n"
    }
   }
  },
  {
   "cell_type": "code",
   "execution_count": null,
   "outputs": [],
   "source": [
    "N_ROWS = padded.shape[0] // SIZE\n",
    "N_COLS = padded.shape[1] // SIZE\n",
    "\n",
    "print(\"N_ROWS :\", N_ROWS)\n",
    "print(\"N_COLS :\", N_COLS)\n",
    "print(\"N_TILES:\", N_ROWS * N_COLS)"
   ],
   "metadata": {
    "collapsed": false,
    "pycharm": {
     "name": "#%%\n"
    }
   }
  },
  {
   "cell_type": "markdown",
   "source": [
    "# Create tiles\n",
    "\n",
    "- https://docs.scipy.org/doc/numpy/reference/generated/numpy.reshape.html\n",
    "- https://docs.scipy.org/doc/numpy/reference/generated/numpy.transpose.html"
   ],
   "metadata": {
    "collapsed": false
   }
  },
  {
   "cell_type": "code",
   "execution_count": null,
   "outputs": [],
   "source": [
    "reshaped = padded.reshape(\n",
    "    padded.shape[0] // SIZE,\n",
    "    SIZE,\n",
    "    padded.shape[1] // SIZE,\n",
    "    SIZE,\n",
    "    3,\n",
    ")\n",
    "transposed = reshaped.transpose(0, 2, 1, 3, 4)\n",
    "tiles = transposed.reshape(-1, SIZE, SIZE, 3)\n",
    "\n",
    "print(\"reshaped.shape  :\", reshaped.shape)\n",
    "print(\"transposed.shape:\", transposed.shape)\n",
    "print(\"tiles.shape     :\", tiles.shape)"
   ],
   "metadata": {
    "collapsed": false,
    "pycharm": {
     "name": "#%%\n"
    }
   }
  },
  {
   "cell_type": "markdown",
   "source": [
    "# Visualize tiles"
   ],
   "metadata": {
    "collapsed": false
   }
  },
  {
   "cell_type": "code",
   "execution_count": null,
   "outputs": [],
   "source": [
    "def merge_tiles(tiles, funcs=None):\n",
    "    \"\"\"\n",
    "    If `funcs` specified, apply them to each tile before merging.\n",
    "    \"\"\"\n",
    "    return np.vstack([\n",
    "        np.hstack([\n",
    "            reduce(lambda acc, f: f(acc), funcs, x) if funcs else x\n",
    "            for x in row\n",
    "        ])\n",
    "        for row in tiles\n",
    "    ])\n",
    "\n",
    "\n",
    "def draw_borders(img):\n",
    "    \"\"\"\n",
    "    Put borders around an image.\n",
    "    \"\"\"\n",
    "    ret = img.copy()\n",
    "    ret[0, :] = GRAY   # top\n",
    "    ret[-1, :] = GRAY  # bottom\n",
    "    ret[:, 0] = GRAY   # left\n",
    "    ret[:, -1] = GRAY  # right\n",
    "    return ret\n"
   ],
   "metadata": {
    "collapsed": false,
    "pycharm": {
     "name": "#%%\n"
    }
   }
  },
  {
   "cell_type": "code",
   "execution_count": null,
   "outputs": [],
   "source": [
    "imshow(merge_tiles(transposed, [draw_borders]), \"Tiles\")"
   ],
   "metadata": {
    "collapsed": false,
    "pycharm": {
     "name": "#%%\n"
    }
   }
  },
  {
   "cell_type": "markdown",
   "source": [
    "# Select tiles"
   ],
   "metadata": {
    "collapsed": false
   }
  },
  {
   "cell_type": "code",
   "execution_count": null,
   "outputs": [],
   "source": [
    "sums = tiles.reshape(tiles.shape[0], -1).sum(axis=-1)\n",
    "\n",
    "highlight = lambda x: \"color: {}\".format(\"red\" if x != sums.max() else \"black\")\n",
    "pd.DataFrame(sums.reshape(N_ROWS, N_COLS)).style.applymap(highlight)"
   ],
   "metadata": {
    "collapsed": false,
    "pycharm": {
     "name": "#%%\n"
    }
   }
  },
  {
   "cell_type": "code",
   "execution_count": null,
   "outputs": [],
   "source": [
    "idxs_selected = np.argsort(sums)[:N]\n",
    "idxs_selected"
   ],
   "metadata": {
    "collapsed": false,
    "pycharm": {
     "name": "#%%\n"
    }
   }
  },
  {
   "cell_type": "markdown",
   "source": [
    "# Visuzalize selected tiles"
   ],
   "metadata": {
    "collapsed": false
   }
  },
  {
   "cell_type": "code",
   "execution_count": null,
   "outputs": [],
   "source": [
    "def fill_tiles(tiles, fill_func):\n",
    "    \"\"\"\n",
    "    Fill each tile with another array created by `fill_func`.\n",
    "    \"\"\"\n",
    "    return np.array([[fill_func(x) for x in row] for row in tiles])\n",
    "\n",
    "\n",
    "def make_patch_func(true_color, false_color):\n",
    "    def ret(x):\n",
    "        \"\"\"\n",
    "        Retunrs a color patch. The color will be `true_color` if `x` is True otherwise `false_color`.\n",
    "        \"\"\"\n",
    "        color = true_color if x else false_color\n",
    "        return np.tile(color, (SIZE, SIZE, 1)).astype(np.uint8)\n",
    "\n",
    "    return ret"
   ],
   "metadata": {
    "collapsed": false,
    "pycharm": {
     "name": "#%%\n"
    }
   }
  },
  {
   "cell_type": "code",
   "execution_count": null,
   "outputs": [],
   "source": [
    "mask = np.isin(np.arange(len(sums)), idxs_selected).reshape(N_ROWS, N_COLS)\n",
    "mask = fill_tiles(mask, make_patch_func(WHITE, BLACK))\n",
    "mask = merge_tiles(mask, [draw_borders])\n",
    "\n",
    "imshow(mask, \"Selected tiles\")"
   ],
   "metadata": {
    "collapsed": false,
    "pycharm": {
     "name": "#%%\n"
    }
   }
  },
  {
   "cell_type": "code",
   "execution_count": null,
   "outputs": [],
   "source": [
    "mask = np.isin(np.arange(len(sums)), idxs_selected).reshape(N_ROWS, N_COLS)\n",
    "mask = fill_tiles(mask, make_patch_func(RED, WHITE))\n",
    "mask = merge_tiles(mask, [draw_borders])\n",
    "\n",
    "with_mask = np.ubyte(0.7 * padded + 0.3 * mask)\n",
    "\n",
    "imshow(with_mask, \"Selected tiles\")"
   ],
   "metadata": {
    "collapsed": false,
    "pycharm": {
     "name": "#%%\n"
    }
   }
  },
  {
   "cell_type": "code",
   "execution_count": null,
   "outputs": [],
   "source": [],
   "metadata": {
    "collapsed": false,
    "pycharm": {
     "name": "#%%\n"
    }
   }
  }
 ],
 "metadata": {
  "kernelspec": {
   "display_name": "Python 3",
   "language": "python",
   "name": "python3"
  },
  "language_info": {
   "codemirror_mode": {
    "name": "ipython",
    "version": 2
   },
   "file_extension": ".py",
   "mimetype": "text/x-python",
   "name": "python",
   "nbconvert_exporter": "python",
   "pygments_lexer": "ipython2",
   "version": "2.7.6"
  },
  "pycharm": {
   "stem_cell": {
    "cell_type": "raw",
    "source": [
     "\n"
    ],
    "metadata": {
     "collapsed": false
    }
   }
  }
 },
 "nbformat": 4,
 "nbformat_minor": 0
}